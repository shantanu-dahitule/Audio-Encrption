{
  "nbformat": 4,
  "nbformat_minor": 0,
  "metadata": {
    "kernelspec": {
      "display_name": "Python 3",
      "language": "python",
      "name": "python3"
    },
    "language_info": {
      "codemirror_mode": {
        "name": "ipython",
        "version": 3
      },
      "file_extension": ".py",
      "mimetype": "text/x-python",
      "name": "python",
      "nbconvert_exporter": "python",
      "pygments_lexer": "ipython3",
      "version": "3.7.3"
    },
    "colab": {
      "name": "RSA.ipynb",
      "provenance": []
    }
  },
  "cells": [
    {
      "cell_type": "markdown",
      "metadata": {
        "id": "EsGzIPGwJ-kf"
      },
      "source": [
        "# Importing dependencies"
      ]
    },
    {
      "cell_type": "code",
      "metadata": {
        "colab": {
          "base_uri": "https://localhost:8080/"
        },
        "id": "qHS4_p9zK1So",
        "outputId": "2064682e-fe18-41f8-d105-a40fe58848c5"
      },
      "source": [
        "!sudo apt-get install libportaudio2\n",
        "!pip install sounddevice"
      ],
      "execution_count": null,
      "outputs": [
        {
          "output_type": "stream",
          "name": "stdout",
          "text": [
            "Reading package lists... Done\n",
            "Building dependency tree       \n",
            "Reading state information... Done\n",
            "The following NEW packages will be installed:\n",
            "  libportaudio2\n",
            "0 upgraded, 1 newly installed, 0 to remove and 37 not upgraded.\n",
            "Need to get 64.6 kB of archives.\n",
            "After this operation, 215 kB of additional disk space will be used.\n",
            "Get:1 http://archive.ubuntu.com/ubuntu bionic/universe amd64 libportaudio2 amd64 19.6.0-1 [64.6 kB]\n",
            "Fetched 64.6 kB in 0s (975 kB/s)\n",
            "debconf: unable to initialize frontend: Dialog\n",
            "debconf: (No usable dialog-like program is installed, so the dialog based frontend cannot be used. at /usr/share/perl5/Debconf/FrontEnd/Dialog.pm line 76, <> line 1.)\n",
            "debconf: falling back to frontend: Readline\n",
            "debconf: unable to initialize frontend: Readline\n",
            "debconf: (This frontend requires a controlling tty.)\n",
            "debconf: falling back to frontend: Teletype\n",
            "dpkg-preconfigure: unable to re-open stdin: \n",
            "Selecting previously unselected package libportaudio2:amd64.\n",
            "(Reading database ... 155222 files and directories currently installed.)\n",
            "Preparing to unpack .../libportaudio2_19.6.0-1_amd64.deb ...\n",
            "Unpacking libportaudio2:amd64 (19.6.0-1) ...\n",
            "Setting up libportaudio2:amd64 (19.6.0-1) ...\n",
            "Processing triggers for libc-bin (2.27-3ubuntu1.3) ...\n",
            "/sbin/ldconfig.real: /usr/local/lib/python3.7/dist-packages/ideep4py/lib/libmkldnn.so.0 is not a symbolic link\n",
            "\n",
            "Collecting sounddevice\n",
            "  Downloading sounddevice-0.4.3-py3-none-any.whl (31 kB)\n",
            "Requirement already satisfied: CFFI>=1.0 in /usr/local/lib/python3.7/dist-packages (from sounddevice) (1.15.0)\n",
            "Requirement already satisfied: pycparser in /usr/local/lib/python3.7/dist-packages (from CFFI>=1.0->sounddevice) (2.21)\n",
            "Installing collected packages: sounddevice\n",
            "Successfully installed sounddevice-0.4.3\n"
          ]
        }
      ]
    },
    {
      "cell_type": "code",
      "metadata": {
        "scrolled": true,
        "id": "tTZ3bKZ-J-km"
      },
      "source": [
        "from scipy.io import wavfile\n",
        "import numpy as np\n",
        "import matplotlib.pyplot as plt\n",
        "import sounddevice as sd\n",
        "import math"
      ],
      "execution_count": null,
      "outputs": []
    },
    {
      "cell_type": "markdown",
      "metadata": {
        "id": "yivan7t7J-kp"
      },
      "source": [
        "## Taking input"
      ]
    },
    {
      "cell_type": "code",
      "metadata": {
        "scrolled": false,
        "colab": {
          "base_uri": "https://localhost:8080/",
          "height": 281
        },
        "id": "6oRmrp6BJ-kq",
        "outputId": "b03d5e6f-c2c8-440e-ba5c-36c959e399d6"
      },
      "source": [
        "fs, data = wavfile.read('Audio.wav')\n",
        "plt.plot(data)            # fs = sampling frequency = 44.1kHz\n",
        "plt.title(\"Original Audio Plot\")\n",
        "data_1 = np.asarray(data, dtype = np.int32)"
      ],
      "execution_count": null,
      "outputs": [
        {
          "output_type": "display_data",
          "data": {
            "image/png": "[encoded data removed]",
            "text/plain": [
              "<Figure size 432x288 with 1 Axes>"
            ]
          },
          "metadata": {
            "needs_background": "light"
          }
        }
      ]
    },
    {
      "cell_type": "markdown",
      "metadata": {
        "id": "ayWkDXraJ-ks"
      },
      "source": [
        "## Playing that sound"
      ]
    },
    {
      "cell_type": "markdown",
      "metadata": {
        "id": "CDXzCQnXJ-kt"
      },
      "source": [
        "## Generating public and private keys for RSA algorithm"
      ]
    },
    {
      "cell_type": "markdown",
      "metadata": {
        "id": "sY0dToIYJ-ku"
      },
      "source": [
        "Select two prime no's. Suppose P = 53 and Q = 59.\n",
        "\n",
        "Now First part of the Public key  : n = P*Q = 3127.\n",
        "\n",
        "We also need a small exponent say e : \n",
        "But e Must be \n",
        "\n",
        "    1) An integer.\n",
        "\n",
        "    2) Not be a factor of n.\n",
        " \n",
        "    3) 1 < e < Φ(n) [Φ(n) is discussed below], \n",
        "    Let us now consider it to be equal to 3.\n",
        "    \n",
        "Our Public Key is made of n and e"
      ]
    },
    {
      "cell_type": "markdown",
      "metadata": {
        "id": "LPjMgb0jJ-kw"
      },
      "source": [
        "1) We need to calculate Φ(n):\n",
        "    \n",
        "    Such that Φ(n) = (P-1)(Q-1)     \n",
        "      so,  Φ(n) = 3016\n",
        "\n",
        "    \n",
        "2) Now calculate Private Key, d : \n",
        "    \n",
        "    d = (k*Φ(n) + 1) / e for some integer k\n",
        "    For k = 2, value of d is 2011."
      ]
    },
    {
      "cell_type": "code",
      "metadata": {
        "colab": {
          "base_uri": "https://localhost:8080/"
        },
        "id": "EXrh27U4J-kx",
        "outputId": "a4c47ddd-aa67-4d85-9d66-a5d2c0229e02"
      },
      "source": [
        "p1 = int(input(\"Enter a prime number: \"))\n",
        "p2 = int(input(\"Enter another prime number: \"))\n",
        "\n",
        "n = p1*p2\n",
        "print(\"n = p1*p2 = \",n)"
      ],
      "execution_count": null,
      "outputs": [
        {
          "output_type": "stream",
          "name": "stdout",
          "text": [
            "Enter a prime number: 3\n",
            "Enter another prime number: 11\n",
            "n = p1*p2 =  33\n"
          ]
        }
      ]
    },
    {
      "cell_type": "code",
      "metadata": {
        "scrolled": true,
        "colab": {
          "base_uri": "https://localhost:8080/"
        },
        "id": "KS-q9JBMJ-ky",
        "outputId": "101a7258-7aa2-45a2-8805-722b933bf276"
      },
      "source": [
        "e = int(input(\"Enter a small, odd number, co-prime with n: \"))\n",
        "k = int(input(\"Enter value of k:\"))"
      ],
      "execution_count": null,
      "outputs": [
        {
          "name": "stdout",
          "output_type": "stream",
          "text": [
            "Enter a small, odd number, co-prime with n: 7\n",
            "Enter value of k:2\n"
          ]
        }
      ]
    },
    {
      "cell_type": "code",
      "metadata": {
        "colab": {
          "base_uri": "https://localhost:8080/"
        },
        "id": "FSaNrJP9J-ky",
        "outputId": "fc2d158f-78ff-4225-d556-5f746b4201a1"
      },
      "source": [
        "phi = (p1-1)*(p2-1)\n",
        "print(\"phi = \",phi)\n",
        "d = int((k*phi+1)/e)\n",
        "print(\"d= \",d)"
      ],
      "execution_count": null,
      "outputs": [
        {
          "output_type": "stream",
          "name": "stdout",
          "text": [
            "phi =  20\n",
            "d=  5\n"
          ]
        }
      ]
    },
    {
      "cell_type": "code",
      "metadata": {
        "colab": {
          "base_uri": "https://localhost:8080/"
        },
        "id": "Ro-TKX5-J-kz",
        "outputId": "af0a2272-4b9b-4d5f-f840-7c942dd803b8"
      },
      "source": [
        "public_key = n,e\n",
        "private_key = n,d\n",
        "\n",
        "print(\"Public Key = \", public_key)\n",
        "print(\"Private Key = \",private_key)"
      ],
      "execution_count": null,
      "outputs": [
        {
          "output_type": "stream",
          "name": "stdout",
          "text": [
            "Public Key =  (33, 7)\n",
            "Private Key =  (33, 5)\n"
          ]
        }
      ]
    },
    {
      "cell_type": "markdown",
      "metadata": {
        "id": "srHpjygeJ-kz"
      },
      "source": [
        "## Encrpytion of audio file"
      ]
    },
    {
      "cell_type": "code",
      "metadata": {
        "colab": {
          "base_uri": "https://localhost:8080/",
          "height": 298
        },
        "id": "Xz7I2yqhJ-k0",
        "outputId": "1efb5b99-ebbe-4c72-9fa5-b1acf234837e"
      },
      "source": [
        "encrypted = (data**e)%n\n",
        "plt.plot(encrypted)\n",
        "plt.title(\"Encrypted Audio Plot\")"
      ],
      "execution_count": null,
      "outputs": [
        {
          "output_type": "execute_result",
          "data": {
            "text/plain": [
              "Text(0.5, 1.0, 'Encrypted Audio Plot')"
            ]
          },
          "metadata": {},
          "execution_count": 8
        },
        {
          "output_type": "display_data",
          "data": {
            "image/png": "[encoded data removed]",
            "text/plain": [
              "<Figure size 432x288 with 1 Axes>"
            ]
          },
          "metadata": {
            "needs_background": "light"
          }
        }
      ]
    },
    {
      "cell_type": "markdown",
      "metadata": {
        "id": "HB32ivthJ-k0"
      },
      "source": [
        "## Saving the saved file"
      ]
    },
    {
      "cell_type": "code",
      "metadata": {
        "colab": {
          "base_uri": "https://localhost:8080/"
        },
        "id": "NljdM85PJ-k0",
        "outputId": "d2be3b0c-5de2-4cf3-8c0b-0c824c79aee8"
      },
      "source": [
        "encrypted = np.asarray(encrypted, dtype=np.int16)\n",
        "wavfile.write('encrypted_rsa.wav', fs, encrypted)\n",
        "print(\"A file titled 'encrypted_rsa.wav' is generated which is the encrypted audio to be communicated\")"
      ],
      "execution_count": null,
      "outputs": [
        {
          "output_type": "stream",
          "name": "stdout",
          "text": [
            "A file titled 'encrypted_rsa.wav' is generated which is the encrypted audio to be communicated\n"
          ]
        }
      ]
    },
    {
      "cell_type": "code",
      "metadata": {
        "colab": {
          "base_uri": "https://localhost:8080/"
        },
        "id": "Z8WpnJq-OuS4",
        "outputId": "80711d71-1f13-48c3-9bb1-454fd4de573d"
      },
      "source": [
        "encrypted"
      ],
      "execution_count": null,
      "outputs": [
        {
          "output_type": "execute_result",
          "data": {
            "text/plain": [
              "array([ 0,  0, 32, ..., 24, 24, 17], dtype=int16)"
            ]
          },
          "metadata": {},
          "execution_count": 10
        }
      ]
    },
    {
      "cell_type": "markdown",
      "metadata": {
        "id": "GhZ2qnzTJ-k1"
      },
      "source": [
        "## Loading and decrypting"
      ]
    },
    {
      "cell_type": "code",
      "metadata": {
        "colab": {
          "base_uri": "https://localhost:8080/",
          "height": 298
        },
        "id": "vfsgwtZCJ-k1",
        "outputId": "7dc662fe-919a-4bf4-c209-b06e0215ab63"
      },
      "source": [
        "fs, Data = wavfile.read('encrypted_rsa.wav')\n",
        "plt.plot(Data)\n",
        "plt.title(\"Encrypted Audio Plot\")"
      ],
      "execution_count": null,
      "outputs": [
        {
          "output_type": "execute_result",
          "data": {
            "text/plain": [
              "Text(0.5, 1.0, 'Encrypted Audio Plot')"
            ]
          },
          "metadata": {},
          "execution_count": 11
        },
        {
          "output_type": "display_data",
          "data": {
            "image/png": "[encoded data removed]",
            "text/plain": [
              "<Figure size 432x288 with 1 Axes>"
            ]
          },
          "metadata": {
            "needs_background": "light"
          }
        }
      ]
    },
    {
      "cell_type": "markdown",
      "metadata": {
        "id": "ty1dyCrtJ-k2"
      },
      "source": [
        "## Decryption of data"
      ]
    },
    {
      "cell_type": "code",
      "metadata": {
        "colab": {
          "base_uri": "https://localhost:8080/",
          "height": 298
        },
        "id": "YldAlBhDJ-k2",
        "outputId": "e733c89b-22fe-47eb-8f11-9cc0299cab53"
      },
      "source": [
        "decrypted = (Data**d)%n\n",
        "plt.plot(decrypted)\n",
        "plt.title('Decrypted Audio Plot')"
      ],
      "execution_count": null,
      "outputs": [
        {
          "output_type": "execute_result",
          "data": {
            "text/plain": [
              "Text(0.5, 1.0, 'Decrypted Audio Plot')"
            ]
          },
          "metadata": {},
          "execution_count": 12
        },
        {
          "output_type": "display_data",
          "data": {
            "image/png": "[encoded data removed]",
            "text/plain": [
              "<Figure size 432x288 with 1 Axes>"
            ]
          },
          "metadata": {
            "needs_background": "light"
          }
        }
      ]
    },
    {
      "cell_type": "code",
      "metadata": {
        "id": "4yXDL_WJJ-k4",
        "colab": {
          "base_uri": "https://localhost:8080/"
        },
        "outputId": "ddf92b3a-88db-4ed8-e987-259e7c1958ca"
      },
      "source": [
        "decrypted"
      ],
      "execution_count": null,
      "outputs": [
        {
          "output_type": "execute_result",
          "data": {
            "text/plain": [
              "array([ 0,  0,  0, ...,  1,  1, 10], dtype=int16)"
            ]
          },
          "metadata": {},
          "execution_count": 13
        }
      ]
    },
    {
      "cell_type": "code",
      "metadata": {
        "id": "IzVVKnmDO3UD",
        "colab": {
          "base_uri": "https://localhost:8080/"
        },
        "outputId": "2e3ae41c-1c12-4096-a0b0-53faab8b56b5"
      },
      "source": [
        "RMSE = (sum((encrypted-decrypted)**2))**(1/2)\n",
        "print(RMSE)"
      ],
      "execution_count": null,
      "outputs": [
        {
          "output_type": "stream",
          "name": "stdout",
          "text": [
            "7378.5147556944\n"
          ]
        }
      ]
    },
    {
      "cell_type": "code",
      "metadata": {
        "id": "auZhb3sgi4Ws"
      },
      "source": [
        "R=(2*sum((encrypted-decrypted)**2))**(1/2)"
      ],
      "execution_count": null,
      "outputs": []
    },
    {
      "cell_type": "code",
      "metadata": {
        "id": "BOql6ox5x_G4"
      },
      "source": [
        ""
      ],
      "execution_count": null,
      "outputs": []
    },
    {
      "cell_type": "code",
      "metadata": {
        "colab": {
          "base_uri": "https://localhost:8080/"
        },
        "id": "csxfUJQbVNrK",
        "outputId": "fc739815-9208-4660-b657-662f6f32a19b"
      },
      "source": [
        "CD=10*math.log(R,10)\n",
        "print(CD)"
      ],
      "execution_count": null,
      "outputs": [
        {
          "output_type": "stream",
          "name": "stdout",
          "text": [
            "40.184839479582514\n"
          ]
        }
      ]
    },
    {
      "cell_type": "code",
      "metadata": {
        "id": "uKNAwRKGPL_n"
      },
      "source": [
        "A=sum(decrypted)\n",
        "B=sum(abs(encrypted-decrypted))\n",
        "SSSNR=10*math.log(A/B)"
      ],
      "execution_count": null,
      "outputs": []
    },
    {
      "cell_type": "code",
      "metadata": {
        "colab": {
          "base_uri": "https://localhost:8080/"
        },
        "id": "nQWpUcCXyC_4",
        "outputId": "fa4274c6-140b-4aef-cdfb-537c5cf573f2"
      },
      "source": [
        "SSSNR"
      ],
      "execution_count": null,
      "outputs": [
        {
          "output_type": "execute_result",
          "data": {
            "text/plain": [
              "-3.5046926485111363"
            ]
          },
          "metadata": {},
          "execution_count": 18
        }
      ]
    }
  ]
}